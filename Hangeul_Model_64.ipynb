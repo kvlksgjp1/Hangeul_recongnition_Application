{
 "cells": [
  {
   "cell_type": "code",
   "execution_count": null,
   "metadata": {},
   "outputs": [],
   "source": [
    "import tensorflow as tf\n",
    "import numpy as np\n",
    "\n",
    "\n",
    "# In[112]:\n",
    "num_classes = 513\n",
    "IMAGE_WIDTH = 64\n",
    "IMAGE_HEIGHT = 64\n",
    "\n",
    "class Model:\n",
    "    \n",
    "    def __init__(self):\n",
    "        pass\n",
    "    \n",
    "    def _init_and_build_net(self):\n",
    "        tf.reset_default_graph()\n",
    "        tf.initialize_all_variables()\n",
    "        sess = tf.Session()\n",
    "        self.sess = sess\n",
    "        self._build_net_2()\n",
    "        sess.run(tf.global_variables_initializer())\n",
    "        \n",
    "    def _save_network(self):\n",
    "        saver = tf.train.Saver()\n",
    "        saver.save(self.sess, './hangeul_cnn.ckpt')\n",
    "    \n",
    "    def weight_variable(self, shape):\n",
    "        initial = tf.random.truncated_normal(shape, stddev=0.1)\n",
    "        return tf.Variable(initial)\n",
    "    \n",
    "    def bias_variable(self, shape):\n",
    "        initial = tf.constant(0.1, shape=shape)\n",
    "        return tf.Variable(initial)\n",
    "    \n",
    "    def _restore_network(self):\n",
    "        self.sess = tf.InteractiveSession()\n",
    "        saver = tf.train.import_meta_graph('./hangeul_cnn.ckpt.meta')\n",
    "        saver.restore(self.sess,'./hangeul_cnn.ckpt')\n",
    "        \n",
    "        graph = tf.get_default_graph()\n",
    "        self.X =  self.sess.graph.get_tensor_by_name(\"Placeholder:0\")\n",
    "        self.Y =  self.sess.graph.get_tensor_by_name(\"Placeholder_1:0\")\n",
    "        self.W_conv1 = self.sess.graph.get_tensor_by_name(\"W1:0\")\n",
    "        self.W_conv2 = self.sess.graph.get_tensor_by_name(\"W2:0\")\n",
    "        self.W_conv3 = self.sess.graph.get_tensor_by_name(\"W3:0\")\n",
    "        self.b_conv1 = self.sess.graph.get_tensor_by_name(\"Variable:0\")\n",
    "        self.b_conv2 = self.sess.graph.get_tensor_by_name(\"Variable_1:0\")\n",
    "        self.b_conv3 = self.sess.graph.get_tensor_by_name(\"Variable_2:0\")\n",
    "        self.cross_entropy = self.sess.graph.get_tensor_by_name(\"Mean:0\")\n",
    "        self.train_step = self.sess.graph.get_operation_by_name(\"Adam\")\n",
    "        self.accuracy = self.sess.graph.get_tensor_by_name(\"Mean_1:0\")\n",
    "        self.W_fc1 = self.sess.graph.get_tensor_by_name(\"W4:0\")\n",
    "        self.b_fc1 = self.sess.graph.get_tensor_by_name(\"Variable_3:0\")\n",
    "        self.W_fc2 = self.sess.graph.get_tensor_by_name(\"W5:0\")\n",
    "        self.b_fc2 = self.sess.graph.get_tensor_by_name(\"Variable_4:0\")\n",
    "        self.y_logits = self.sess.graph.get_tensor_by_name(\"add_4:0\")\n",
    "        self.keep_prob =  self.sess.graph.get_tensor_by_name(\"Placeholder_2:0\")\n",
    "        \n",
    "    def _build_net_2(self):\n",
    "        self.X = tf.placeholder(tf.float32, [None, IMAGE_WIDTH*IMAGE_HEIGHT])\n",
    "        self.Y = tf.placeholder(tf.float32, [None, num_classes])\n",
    "\n",
    "        # Reshape the image back into two dimensions so we can perform convolution.\n",
    "        x_image = tf.reshape(self.X, [-1, IMAGE_WIDTH, IMAGE_HEIGHT, 1])\n",
    "\n",
    "        #self.W_conv1 = self.weight_variable([5, 5, 1, 32])\n",
    "        self.W_conv1 = tf.get_variable(\"W1\", shape=[5, 5, 1, 32], initializer=tf.contrib.layers.xavier_initializer())\n",
    "        \n",
    "        self.b_conv1 = self.bias_variable([32])\n",
    "        x_conv1 = tf.nn.conv2d(x_image, self.W_conv1, strides=[1, 1, 1, 1],\n",
    "                               padding='SAME')\n",
    "        h_conv1 = tf.nn.relu(x_conv1 + self.b_conv1)\n",
    "\n",
    "        # Max-pooling.\n",
    "        h_pool1 = tf.nn.max_pool(h_conv1, ksize=[1, 2, 2, 1],\n",
    "                                 strides=[1, 2, 2, 1], padding='SAME')\n",
    "\n",
    "        # Second convolutional layer. 64 feature maps.\n",
    "        \n",
    "        #self.W_conv2 = self.weight_variable([5, 5, 32, 64])\n",
    "        self.W_conv2  = tf.get_variable(\"W2\", shape=[5, 5, 32, 64], initializer=tf.contrib.layers.xavier_initializer())\n",
    "        self.b_conv2 = self.bias_variable([64])\n",
    "        x_conv2 = tf.nn.conv2d(h_pool1, self.W_conv2, strides=[1, 1, 1, 1],\n",
    "                               padding='SAME')\n",
    "        h_conv2 = tf.nn.relu(x_conv2 + self.b_conv2)\n",
    "\n",
    "        h_pool2 = tf.nn.max_pool(h_conv2, ksize=[1, 2, 2, 1],\n",
    "                                 strides=[1, 2, 2, 1], padding='SAME')\n",
    "\n",
    "        # Third convolutional layer. 128 feature maps.\n",
    "        \n",
    "        #self.W_conv3 = self.weight_variable([3, 3, 64, 128])\n",
    "        self.W_conv3  = tf.get_variable(\"W3\", shape=[3, 3, 64, 128], initializer=tf.contrib.layers.xavier_initializer())\n",
    "        self.b_conv3 = self.bias_variable([128])\n",
    "        x_conv3 = tf.nn.conv2d(h_pool2, self.W_conv3, strides=[1, 1, 1, 1],\n",
    "                               padding='SAME')\n",
    "        h_conv3 = tf.nn.relu(x_conv3 + self.b_conv3)\n",
    "\n",
    "        h_pool3 = tf.nn.max_pool(h_conv3, ksize=[1, 2, 2, 1],\n",
    "                                 strides=[1, 2, 2, 1], padding='SAME')\n",
    "\n",
    "        # Fully connected layer. Here we choose to have 1024 neurons in this layer.\n",
    "        h_pool_flat = tf.reshape(h_pool3, [-1, 8*8*128])\n",
    "        #self.W_fc1 = self.weight_variable([8*8*128, 1024])\n",
    "        self.W_fc1 = tf.get_variable(\"W4\", shape=[8*8*128, 1024], initializer=tf.contrib.layers.xavier_initializer())\n",
    "        self.b_fc1 = self.bias_variable([1024])\n",
    "        h_fc1 = tf.nn.relu(tf.matmul(h_pool_flat, self.W_fc1) + self.b_fc1)\n",
    "\n",
    "        # Dropout layer. This helps fight overfitting.\n",
    "        self.keep_prob = tf.placeholder(tf.float32)\n",
    "        h_fc1_drop = tf.nn.dropout(h_fc1, rate=1-self.keep_prob)\n",
    "\n",
    "        # Classification layer.\n",
    "        #self.W_fc2 = self.weight_variable([1024, num_classes])\n",
    "        self.W_fc2 = tf.get_variable(\"W5\", shape=[1024, num_classes], initializer=tf.contrib.layers.xavier_initializer())\n",
    "        self.b_fc2 = self.bias_variable([num_classes])\n",
    "        self.y_logits = tf.matmul(h_fc1_drop, self.W_fc2) + self.b_fc2\n",
    "\n",
    "        # This isn't used for training, but for when using the saved model.\n",
    "        tf.nn.softmax(self.y_logits)\n",
    "\n",
    "        # Define our loss.\n",
    "        self.cross_entropy = tf.reduce_mean(\n",
    "            tf.nn.softmax_cross_entropy_with_logits_v2(\n",
    "                labels=tf.stop_gradient(self.Y),\n",
    "                logits=self.y_logits\n",
    "            )\n",
    "        )\n",
    "\n",
    "        # Define our optimizer for minimizing our loss. Here we choose a learning\n",
    "        # rate of 0.0001 with AdamOptimizer. This utilizes someting\n",
    "        # called the Adam algorithm, and utilizes adaptive learning rates and\n",
    "        # momentum to get past saddle points.\n",
    "        self.train_step = tf.train.AdamOptimizer(0.001).minimize(self.cross_entropy)\n",
    "\n",
    "        # Define accuracy.\n",
    "        correct_prediction = tf.equal(tf.argmax(self.y_logits, 1), tf.argmax(self.Y, 1))\n",
    "        correct_prediction = tf.cast(correct_prediction, tf.float32)\n",
    "        self.accuracy = tf.reduce_mean(correct_prediction)\n",
    "        print(\"net_complete\")\n",
    "        \n",
    "    \n",
    "    \n",
    "    def result_to_str(self, x_test):\n",
    "        return str(self.sess.run(tf.argmax(self.y_logits, 1), feed_dict={self.X: x_test, self.keep_prob: 1.0})[0])\n",
    "    \n",
    "    def predict(self, x_test):\n",
    "        return self.sess.run(self.y_logits, feed_dict={self.X: x_test, self.keep_prob: 1.0})\n",
    "    \n",
    "    def get_accuracy(self):\n",
    "        x_test = np.load('hangeul_test_input.npy')\n",
    "        y_test = np.load('hangeul_test_label.npy')\n",
    "        return self.sess.run(self.accuracy, feed_dict={self.X: x_test, self.Y: y_test, self.keep_prob: 1.0})\n",
    "    \n",
    "    def train(self, x_data, y_data):\n",
    "        return self.sess.run([self.cross_entropy, self.train_step], feed_dict={self.X: x_data, self.Y: y_data, self.keep_prob: 0.5})\n",
    "    \n",
    "    def training(self, epochs, input_name, label_name):\n",
    "        training_epochs = epochs\n",
    "        batch_size = 100\n",
    "        \n",
    "        train_input = np.load(input_name)\n",
    "        train_label = np.load(label_name)\n",
    "        \n",
    "        print('Learning Started!')\n",
    "\n",
    "        for epoch in range(training_epochs):\n",
    "            avg_cost = 0\n",
    "            total_batch = int(len(train_input) / batch_size)\n",
    " \n",
    "            for i in range(total_batch):\n",
    "                start = ((i+1) * batch_size) - batch_size\n",
    "                end = ((i+1) * batch_size)\n",
    "                batch_xs = train_input[start:end]\n",
    "                batch_ys = train_label[start:end]\n",
    "                \n",
    "                #if i%100 == 0:\n",
    "                #    train_accuracy = self.sess.run(self.accuracy, feed_dict={self.X: batch_xs, self.Y: batch_ys, self.keep_prob: 1.0})\n",
    "                #    print(\"Step %d, Training Accuracy %g\" %(i, float(train_accuracy)))\n",
    "                c, _ = self.train(batch_xs, batch_ys)\n",
    "                avg_cost += c / total_batch\n",
    " \n",
    "            print('Epoch:', '%04d' % (epoch + 1), 'cost =', '{:.9f}'.format(avg_cost))\n",
    " \n",
    "        print('Learning Finished!')\n",
    "\n",
    "\n",
    "    "
   ]
  },
  {
   "cell_type": "code",
   "execution_count": 2,
   "metadata": {},
   "outputs": [],
   "source": [
    "m1 = Model()"
   ]
  },
  {
   "cell_type": "code",
   "execution_count": 3,
   "metadata": {},
   "outputs": [
    {
     "name": "stdout",
     "output_type": "stream",
     "text": [
      "WARNING:tensorflow:From C:\\Users\\kvlks\\Miniconda3\\lib\\site-packages\\tensorflow\\python\\util\\tf_should_use.py:193: initialize_all_variables (from tensorflow.python.ops.variables) is deprecated and will be removed after 2017-03-02.\n",
      "Instructions for updating:\n",
      "Use `tf.global_variables_initializer` instead.\n",
      "ERROR:tensorflow:==================================\n",
      "Object was never used (type <class 'tensorflow.python.framework.ops.Operation'>):\n",
      "<tf.Operation 'init' type=NoOp>\n",
      "If you want to mark it as used call its \"mark_used()\" method.\n",
      "It was originally created here:\n",
      "  File \"C:\\Users\\kvlks\\Miniconda3\\lib\\runpy.py\", line 193, in _run_module_as_main\n",
      "    \"__main__\", mod_spec)  File \"C:\\Users\\kvlks\\Miniconda3\\lib\\runpy.py\", line 85, in _run_code\n",
      "    exec(code, run_globals)  File \"C:\\Users\\kvlks\\Miniconda3\\lib\\site-packages\\ipykernel_launcher.py\", line 16, in <module>\n",
      "    app.launch_new_instance()  File \"C:\\Users\\kvlks\\Miniconda3\\lib\\site-packages\\traitlets\\config\\application.py\", line 658, in launch_instance\n",
      "    app.start()  File \"C:\\Users\\kvlks\\Miniconda3\\lib\\site-packages\\ipykernel\\kernelapp.py\", line 505, in start\n",
      "    self.io_loop.start()  File \"C:\\Users\\kvlks\\Miniconda3\\lib\\site-packages\\tornado\\ioloop.py\", line 832, in start\n",
      "    self._run_callback(self._callbacks.popleft())  File \"C:\\Users\\kvlks\\Miniconda3\\lib\\site-packages\\tornado\\ioloop.py\", line 605, in _run_callback\n",
      "    ret = callback()  File \"C:\\Users\\kvlks\\Miniconda3\\lib\\site-packages\\tornado\\stack_context.py\", line 277, in null_wrapper\n",
      "    return fn(*args, **kwargs)  File \"C:\\Users\\kvlks\\Miniconda3\\lib\\site-packages\\tornado\\gen.py\", line 1152, in inner\n",
      "    self.run()  File \"C:\\Users\\kvlks\\Miniconda3\\lib\\site-packages\\tornado\\gen.py\", line 1069, in run\n",
      "    yielded = self.gen.send(value)  File \"C:\\Users\\kvlks\\Miniconda3\\lib\\site-packages\\ipykernel\\kernelbase.py\", line 357, in process_one\n",
      "    yield gen.maybe_future(dispatch(*args))  File \"C:\\Users\\kvlks\\Miniconda3\\lib\\site-packages\\tornado\\gen.py\", line 307, in wrapper\n",
      "    yielded = next(result)  File \"C:\\Users\\kvlks\\Miniconda3\\lib\\site-packages\\ipykernel\\kernelbase.py\", line 267, in dispatch_shell\n",
      "    yield gen.maybe_future(handler(stream, idents, msg))  File \"C:\\Users\\kvlks\\Miniconda3\\lib\\site-packages\\tornado\\gen.py\", line 307, in wrapper\n",
      "    yielded = next(result)  File \"C:\\Users\\kvlks\\Miniconda3\\lib\\site-packages\\ipykernel\\kernelbase.py\", line 534, in execute_request\n",
      "    user_expressions, allow_stdin,  File \"C:\\Users\\kvlks\\Miniconda3\\lib\\site-packages\\tornado\\gen.py\", line 307, in wrapper\n",
      "    yielded = next(result)  File \"C:\\Users\\kvlks\\Miniconda3\\lib\\site-packages\\ipykernel\\ipkernel.py\", line 294, in do_execute\n",
      "    res = shell.run_cell(code, store_history=store_history, silent=silent)  File \"C:\\Users\\kvlks\\Miniconda3\\lib\\site-packages\\ipykernel\\zmqshell.py\", line 536, in run_cell\n",
      "    return super(ZMQInteractiveShell, self).run_cell(*args, **kwargs)  File \"C:\\Users\\kvlks\\Miniconda3\\lib\\site-packages\\IPython\\core\\interactiveshell.py\", line 2843, in run_cell\n",
      "    raw_cell, store_history, silent, shell_futures)  File \"C:\\Users\\kvlks\\Miniconda3\\lib\\site-packages\\IPython\\core\\interactiveshell.py\", line 2869, in _run_cell\n",
      "    return runner(coro)  File \"C:\\Users\\kvlks\\Miniconda3\\lib\\site-packages\\IPython\\core\\async_helpers.py\", line 67, in _pseudo_sync_runner\n",
      "    coro.send(None)  File \"C:\\Users\\kvlks\\Miniconda3\\lib\\site-packages\\IPython\\core\\interactiveshell.py\", line 3044, in run_cell_async\n",
      "    interactivity=interactivity, compiler=compiler, result=result)  File \"C:\\Users\\kvlks\\Miniconda3\\lib\\site-packages\\IPython\\core\\interactiveshell.py\", line 3215, in run_ast_nodes\n",
      "    if (yield from self.run_code(code, result)):  File \"C:\\Users\\kvlks\\Miniconda3\\lib\\site-packages\\IPython\\core\\interactiveshell.py\", line 3291, in run_code\n",
      "    exec(code_obj, self.user_global_ns, self.user_ns)  File \"<ipython-input-3-368a0d11b88d>\", line 1, in <module>\n",
      "    m1._init_and_build_net()  File \"<ipython-input-1-8e12569220d9>\", line 17, in _init_and_build_net\n",
      "    tf.initialize_all_variables()  File \"C:\\Users\\kvlks\\Miniconda3\\lib\\site-packages\\tensorflow\\python\\util\\tf_should_use.py\", line 193, in wrapped\n",
      "    return _add_should_use_warning(fn(*args, **kwargs))\n",
      "==================================\n",
      "\n",
      "WARNING: The TensorFlow contrib module will not be included in TensorFlow 2.0.\n",
      "For more information, please see:\n",
      "  * https://github.com/tensorflow/community/blob/master/rfcs/20180907-contrib-sunset.md\n",
      "  * https://github.com/tensorflow/addons\n",
      "If you depend on functionality not listed there, please file an issue.\n",
      "\n",
      "WARNING:tensorflow:From C:\\Users\\kvlks\\Miniconda3\\lib\\site-packages\\tensorflow\\python\\framework\\op_def_library.py:263: colocate_with (from tensorflow.python.framework.ops) is deprecated and will be removed in a future version.\n",
      "Instructions for updating:\n",
      "Colocations handled automatically by placer.\n",
      "net_complete\n"
     ]
    }
   ],
   "source": [
    "m1._init_and_build_net()"
   ]
  },
  {
   "cell_type": "code",
   "execution_count": 5,
   "metadata": {},
   "outputs": [
    {
     "name": "stdout",
     "output_type": "stream",
     "text": [
      "Learning Started!\n",
      "Epoch: 0001 cost = 0.306380298\n",
      "Epoch: 0002 cost = 0.044279438\n",
      "Epoch: 0003 cost = 0.031058883\n",
      "Epoch: 0004 cost = 0.026629116\n",
      "Epoch: 0005 cost = 0.024108576\n",
      "Epoch: 0006 cost = 0.022574488\n",
      "Epoch: 0007 cost = 0.021515252\n",
      "Epoch: 0008 cost = 0.021458248\n",
      "Epoch: 0009 cost = 0.019943824\n",
      "Epoch: 0010 cost = 0.021052545\n",
      "Epoch: 0011 cost = 0.018491548\n",
      "Epoch: 0012 cost = 0.019670007\n",
      "Epoch: 0013 cost = 0.019601093\n",
      "Epoch: 0014 cost = 0.019108424\n",
      "Epoch: 0015 cost = 0.019673724\n",
      "Epoch: 0016 cost = 0.016564341\n",
      "Epoch: 0017 cost = 0.016514353\n",
      "Epoch: 0018 cost = 0.017064375\n",
      "Epoch: 0019 cost = 0.016405483\n",
      "Epoch: 0020 cost = 0.017025958\n",
      "Epoch: 0021 cost = 0.015301475\n",
      "Epoch: 0022 cost = 0.015437943\n",
      "Epoch: 0023 cost = 0.016968500\n",
      "Epoch: 0024 cost = 0.014251603\n",
      "Epoch: 0025 cost = 0.013343234\n",
      "Epoch: 0026 cost = 0.014237814\n",
      "Epoch: 0027 cost = 0.014914141\n",
      "Epoch: 0028 cost = 0.012707815\n",
      "Epoch: 0029 cost = 0.014508746\n",
      "Epoch: 0030 cost = 0.013708100\n",
      "Learning Finished!\n"
     ]
    }
   ],
   "source": [
    "m1.training(30, 'hangeul_train_input.npy', 'hangeul_train_label.npy')"
   ]
  },
  {
   "cell_type": "code",
   "execution_count": 7,
   "metadata": {},
   "outputs": [],
   "source": [
    "#m1._save_network()"
   ]
  },
  {
   "cell_type": "code",
   "execution_count": 3,
   "metadata": {},
   "outputs": [
    {
     "name": "stdout",
     "output_type": "stream",
     "text": [
      "WARNING:tensorflow:From C:\\Users\\kvlks\\Miniconda3\\lib\\site-packages\\tensorflow\\python\\training\\saver.py:1266: checkpoint_exists (from tensorflow.python.training.checkpoint_management) is deprecated and will be removed in a future version.\n",
      "Instructions for updating:\n",
      "Use standard file APIs to check for files with this prefix.\n",
      "INFO:tensorflow:Restoring parameters from ./hangeul_cnn.ckpt\n"
     ]
    }
   ],
   "source": [
    "m1._restore_network()"
   ]
  },
  {
   "cell_type": "code",
   "execution_count": 8,
   "metadata": {},
   "outputs": [
    {
     "ename": "ResourceExhaustedError",
     "evalue": "OOM when allocating tensor with shape[25137,32,64,64] and type float on /job:localhost/replica:0/task:0/device:GPU:0 by allocator GPU_0_bfc\n\t [[node Conv2D (defined at <ipython-input-1-eb9c71f8a2c1>:69) ]]\nHint: If you want to see a list of allocated tensors when OOM happens, add report_tensor_allocations_upon_oom to RunOptions for current allocation info.\n\n\t [[node Mean_1 (defined at <ipython-input-1-eb9c71f8a2c1>:137) ]]\nHint: If you want to see a list of allocated tensors when OOM happens, add report_tensor_allocations_upon_oom to RunOptions for current allocation info.\n\n\nCaused by op 'Conv2D', defined at:\n  File \"C:\\Users\\kvlks\\Anaconda3\\lib\\runpy.py\", line 193, in _run_module_as_main\n    \"__main__\", mod_spec)\n  File \"C:\\Users\\kvlks\\Anaconda3\\lib\\runpy.py\", line 85, in _run_code\n    exec(code, run_globals)\n  File \"C:\\Users\\kvlks\\Anaconda3\\lib\\site-packages\\ipykernel_launcher.py\", line 16, in <module>\n    app.launch_new_instance()\n  File \"C:\\Users\\kvlks\\Anaconda3\\lib\\site-packages\\traitlets\\config\\application.py\", line 658, in launch_instance\n    app.start()\n  File \"C:\\Users\\kvlks\\Anaconda3\\lib\\site-packages\\ipykernel\\kernelapp.py\", line 505, in start\n    self.io_loop.start()\n  File \"C:\\Users\\kvlks\\Anaconda3\\lib\\site-packages\\tornado\\platform\\asyncio.py\", line 148, in start\n    self.asyncio_loop.run_forever()\n  File \"C:\\Users\\kvlks\\Anaconda3\\lib\\asyncio\\base_events.py\", line 539, in run_forever\n    self._run_once()\n  File \"C:\\Users\\kvlks\\Anaconda3\\lib\\asyncio\\base_events.py\", line 1775, in _run_once\n    handle._run()\n  File \"C:\\Users\\kvlks\\Anaconda3\\lib\\asyncio\\events.py\", line 88, in _run\n    self._context.run(self._callback, *self._args)\n  File \"C:\\Users\\kvlks\\Anaconda3\\lib\\site-packages\\tornado\\ioloop.py\", line 690, in <lambda>\n    lambda f: self._run_callback(functools.partial(callback, future))\n  File \"C:\\Users\\kvlks\\Anaconda3\\lib\\site-packages\\tornado\\ioloop.py\", line 743, in _run_callback\n    ret = callback()\n  File \"C:\\Users\\kvlks\\Anaconda3\\lib\\site-packages\\tornado\\gen.py\", line 781, in inner\n    self.run()\n  File \"C:\\Users\\kvlks\\Anaconda3\\lib\\site-packages\\tornado\\gen.py\", line 742, in run\n    yielded = self.gen.send(value)\n  File \"C:\\Users\\kvlks\\Anaconda3\\lib\\site-packages\\ipykernel\\kernelbase.py\", line 357, in process_one\n    yield gen.maybe_future(dispatch(*args))\n  File \"C:\\Users\\kvlks\\Anaconda3\\lib\\site-packages\\tornado\\gen.py\", line 209, in wrapper\n    yielded = next(result)\n  File \"C:\\Users\\kvlks\\Anaconda3\\lib\\site-packages\\ipykernel\\kernelbase.py\", line 267, in dispatch_shell\n    yield gen.maybe_future(handler(stream, idents, msg))\n  File \"C:\\Users\\kvlks\\Anaconda3\\lib\\site-packages\\tornado\\gen.py\", line 209, in wrapper\n    yielded = next(result)\n  File \"C:\\Users\\kvlks\\Anaconda3\\lib\\site-packages\\ipykernel\\kernelbase.py\", line 534, in execute_request\n    user_expressions, allow_stdin,\n  File \"C:\\Users\\kvlks\\Anaconda3\\lib\\site-packages\\tornado\\gen.py\", line 209, in wrapper\n    yielded = next(result)\n  File \"C:\\Users\\kvlks\\Anaconda3\\lib\\site-packages\\ipykernel\\ipkernel.py\", line 294, in do_execute\n    res = shell.run_cell(code, store_history=store_history, silent=silent)\n  File \"C:\\Users\\kvlks\\Anaconda3\\lib\\site-packages\\ipykernel\\zmqshell.py\", line 536, in run_cell\n    return super(ZMQInteractiveShell, self).run_cell(*args, **kwargs)\n  File \"C:\\Users\\kvlks\\Anaconda3\\lib\\site-packages\\IPython\\core\\interactiveshell.py\", line 2848, in run_cell\n    raw_cell, store_history, silent, shell_futures)\n  File \"C:\\Users\\kvlks\\Anaconda3\\lib\\site-packages\\IPython\\core\\interactiveshell.py\", line 2874, in _run_cell\n    return runner(coro)\n  File \"C:\\Users\\kvlks\\Anaconda3\\lib\\site-packages\\IPython\\core\\async_helpers.py\", line 67, in _pseudo_sync_runner\n    coro.send(None)\n  File \"C:\\Users\\kvlks\\Anaconda3\\lib\\site-packages\\IPython\\core\\interactiveshell.py\", line 3049, in run_cell_async\n    interactivity=interactivity, compiler=compiler, result=result)\n  File \"C:\\Users\\kvlks\\Anaconda3\\lib\\site-packages\\IPython\\core\\interactiveshell.py\", line 3220, in run_ast_nodes\n    if (yield from self.run_code(code, result)):\n  File \"C:\\Users\\kvlks\\Anaconda3\\lib\\site-packages\\IPython\\core\\interactiveshell.py\", line 3296, in run_code\n    exec(code_obj, self.user_global_ns, self.user_ns)\n  File \"<ipython-input-3-368a0d11b88d>\", line 1, in <module>\n    m1._init_and_build_net()\n  File \"<ipython-input-1-eb9c71f8a2c1>\", line 19, in _init_and_build_net\n    self._build_net_2()\n  File \"<ipython-input-1-eb9c71f8a2c1>\", line 69, in _build_net_2\n    padding='SAME')\n  File \"C:\\Users\\kvlks\\Anaconda3\\lib\\site-packages\\tensorflow\\python\\ops\\gen_nn_ops.py\", line 1026, in conv2d\n    data_format=data_format, dilations=dilations, name=name)\n  File \"C:\\Users\\kvlks\\Anaconda3\\lib\\site-packages\\tensorflow\\python\\framework\\op_def_library.py\", line 788, in _apply_op_helper\n    op_def=op_def)\n  File \"C:\\Users\\kvlks\\Anaconda3\\lib\\site-packages\\tensorflow\\python\\util\\deprecation.py\", line 507, in new_func\n    return func(*args, **kwargs)\n  File \"C:\\Users\\kvlks\\Anaconda3\\lib\\site-packages\\tensorflow\\python\\framework\\ops.py\", line 3300, in create_op\n    op_def=op_def)\n  File \"C:\\Users\\kvlks\\Anaconda3\\lib\\site-packages\\tensorflow\\python\\framework\\ops.py\", line 1801, in __init__\n    self._traceback = tf_stack.extract_stack()\n\nResourceExhaustedError (see above for traceback): OOM when allocating tensor with shape[25137,32,64,64] and type float on /job:localhost/replica:0/task:0/device:GPU:0 by allocator GPU_0_bfc\n\t [[node Conv2D (defined at <ipython-input-1-eb9c71f8a2c1>:69) ]]\nHint: If you want to see a list of allocated tensors when OOM happens, add report_tensor_allocations_upon_oom to RunOptions for current allocation info.\n\n\t [[node Mean_1 (defined at <ipython-input-1-eb9c71f8a2c1>:137) ]]\nHint: If you want to see a list of allocated tensors when OOM happens, add report_tensor_allocations_upon_oom to RunOptions for current allocation info.\n\n",
     "output_type": "error",
     "traceback": [
      "\u001b[1;31m---------------------------------------------------------------------------\u001b[0m",
      "\u001b[1;31mResourceExhaustedError\u001b[0m                    Traceback (most recent call last)",
      "\u001b[1;32m~\\Anaconda3\\lib\\site-packages\\tensorflow\\python\\client\\session.py\u001b[0m in \u001b[0;36m_do_call\u001b[1;34m(self, fn, *args)\u001b[0m\n\u001b[0;32m   1333\u001b[0m     \u001b[1;32mtry\u001b[0m\u001b[1;33m:\u001b[0m\u001b[1;33m\u001b[0m\u001b[1;33m\u001b[0m\u001b[0m\n\u001b[1;32m-> 1334\u001b[1;33m       \u001b[1;32mreturn\u001b[0m \u001b[0mfn\u001b[0m\u001b[1;33m(\u001b[0m\u001b[1;33m*\u001b[0m\u001b[0margs\u001b[0m\u001b[1;33m)\u001b[0m\u001b[1;33m\u001b[0m\u001b[1;33m\u001b[0m\u001b[0m\n\u001b[0m\u001b[0;32m   1335\u001b[0m     \u001b[1;32mexcept\u001b[0m \u001b[0merrors\u001b[0m\u001b[1;33m.\u001b[0m\u001b[0mOpError\u001b[0m \u001b[1;32mas\u001b[0m \u001b[0me\u001b[0m\u001b[1;33m:\u001b[0m\u001b[1;33m\u001b[0m\u001b[1;33m\u001b[0m\u001b[0m\n",
      "\u001b[1;32m~\\Anaconda3\\lib\\site-packages\\tensorflow\\python\\client\\session.py\u001b[0m in \u001b[0;36m_run_fn\u001b[1;34m(feed_dict, fetch_list, target_list, options, run_metadata)\u001b[0m\n\u001b[0;32m   1318\u001b[0m       return self._call_tf_sessionrun(\n\u001b[1;32m-> 1319\u001b[1;33m           options, feed_dict, fetch_list, target_list, run_metadata)\n\u001b[0m\u001b[0;32m   1320\u001b[0m \u001b[1;33m\u001b[0m\u001b[0m\n",
      "\u001b[1;32m~\\Anaconda3\\lib\\site-packages\\tensorflow\\python\\client\\session.py\u001b[0m in \u001b[0;36m_call_tf_sessionrun\u001b[1;34m(self, options, feed_dict, fetch_list, target_list, run_metadata)\u001b[0m\n\u001b[0;32m   1406\u001b[0m         \u001b[0mself\u001b[0m\u001b[1;33m.\u001b[0m\u001b[0m_session\u001b[0m\u001b[1;33m,\u001b[0m \u001b[0moptions\u001b[0m\u001b[1;33m,\u001b[0m \u001b[0mfeed_dict\u001b[0m\u001b[1;33m,\u001b[0m \u001b[0mfetch_list\u001b[0m\u001b[1;33m,\u001b[0m \u001b[0mtarget_list\u001b[0m\u001b[1;33m,\u001b[0m\u001b[1;33m\u001b[0m\u001b[1;33m\u001b[0m\u001b[0m\n\u001b[1;32m-> 1407\u001b[1;33m         run_metadata)\n\u001b[0m\u001b[0;32m   1408\u001b[0m \u001b[1;33m\u001b[0m\u001b[0m\n",
      "\u001b[1;31mResourceExhaustedError\u001b[0m: OOM when allocating tensor with shape[25137,32,64,64] and type float on /job:localhost/replica:0/task:0/device:GPU:0 by allocator GPU_0_bfc\n\t [[{{node Conv2D}}]]\nHint: If you want to see a list of allocated tensors when OOM happens, add report_tensor_allocations_upon_oom to RunOptions for current allocation info.\n\n\t [[{{node Mean_1}}]]\nHint: If you want to see a list of allocated tensors when OOM happens, add report_tensor_allocations_upon_oom to RunOptions for current allocation info.\n",
      "\nDuring handling of the above exception, another exception occurred:\n",
      "\u001b[1;31mResourceExhaustedError\u001b[0m                    Traceback (most recent call last)",
      "\u001b[1;32m<ipython-input-8-a22ccb974b91>\u001b[0m in \u001b[0;36m<module>\u001b[1;34m\u001b[0m\n\u001b[1;32m----> 1\u001b[1;33m \u001b[0mprint\u001b[0m\u001b[1;33m(\u001b[0m\u001b[1;34m'Accuracy:'\u001b[0m\u001b[1;33m,\u001b[0m \u001b[0mm1\u001b[0m\u001b[1;33m.\u001b[0m\u001b[0mget_accuracy\u001b[0m\u001b[1;33m(\u001b[0m\u001b[1;33m)\u001b[0m\u001b[1;33m)\u001b[0m\u001b[1;33m\u001b[0m\u001b[1;33m\u001b[0m\u001b[0m\n\u001b[0m",
      "\u001b[1;32m<ipython-input-1-eb9c71f8a2c1>\u001b[0m in \u001b[0;36mget_accuracy\u001b[1;34m(self)\u001b[0m\n\u001b[0;32m    149\u001b[0m         \u001b[0mx_test\u001b[0m \u001b[1;33m=\u001b[0m \u001b[0mnp\u001b[0m\u001b[1;33m.\u001b[0m\u001b[0mload\u001b[0m\u001b[1;33m(\u001b[0m\u001b[1;34m'6464_513/hangeul_test_input.npy'\u001b[0m\u001b[1;33m)\u001b[0m\u001b[1;33m\u001b[0m\u001b[1;33m\u001b[0m\u001b[0m\n\u001b[0;32m    150\u001b[0m         \u001b[0my_test\u001b[0m \u001b[1;33m=\u001b[0m \u001b[0mnp\u001b[0m\u001b[1;33m.\u001b[0m\u001b[0mload\u001b[0m\u001b[1;33m(\u001b[0m\u001b[1;34m'6464_513/hangeul_test_label.npy'\u001b[0m\u001b[1;33m)\u001b[0m\u001b[1;33m\u001b[0m\u001b[1;33m\u001b[0m\u001b[0m\n\u001b[1;32m--> 151\u001b[1;33m         \u001b[1;32mreturn\u001b[0m \u001b[0mself\u001b[0m\u001b[1;33m.\u001b[0m\u001b[0msess\u001b[0m\u001b[1;33m.\u001b[0m\u001b[0mrun\u001b[0m\u001b[1;33m(\u001b[0m\u001b[0mself\u001b[0m\u001b[1;33m.\u001b[0m\u001b[0maccuracy\u001b[0m\u001b[1;33m,\u001b[0m \u001b[0mfeed_dict\u001b[0m\u001b[1;33m=\u001b[0m\u001b[1;33m{\u001b[0m\u001b[0mself\u001b[0m\u001b[1;33m.\u001b[0m\u001b[0mX\u001b[0m\u001b[1;33m:\u001b[0m \u001b[0mx_test\u001b[0m\u001b[1;33m,\u001b[0m \u001b[0mself\u001b[0m\u001b[1;33m.\u001b[0m\u001b[0mY\u001b[0m\u001b[1;33m:\u001b[0m \u001b[0my_test\u001b[0m\u001b[1;33m,\u001b[0m \u001b[0mself\u001b[0m\u001b[1;33m.\u001b[0m\u001b[0mkeep_prob\u001b[0m\u001b[1;33m:\u001b[0m \u001b[1;36m1.0\u001b[0m\u001b[1;33m}\u001b[0m\u001b[1;33m)\u001b[0m\u001b[1;33m\u001b[0m\u001b[1;33m\u001b[0m\u001b[0m\n\u001b[0m\u001b[0;32m    152\u001b[0m \u001b[1;33m\u001b[0m\u001b[0m\n\u001b[0;32m    153\u001b[0m     \u001b[1;32mdef\u001b[0m \u001b[0mtrain\u001b[0m\u001b[1;33m(\u001b[0m\u001b[0mself\u001b[0m\u001b[1;33m,\u001b[0m \u001b[0mx_data\u001b[0m\u001b[1;33m,\u001b[0m \u001b[0my_data\u001b[0m\u001b[1;33m)\u001b[0m\u001b[1;33m:\u001b[0m\u001b[1;33m\u001b[0m\u001b[1;33m\u001b[0m\u001b[0m\n",
      "\u001b[1;32m~\\Anaconda3\\lib\\site-packages\\tensorflow\\python\\client\\session.py\u001b[0m in \u001b[0;36mrun\u001b[1;34m(self, fetches, feed_dict, options, run_metadata)\u001b[0m\n\u001b[0;32m    927\u001b[0m     \u001b[1;32mtry\u001b[0m\u001b[1;33m:\u001b[0m\u001b[1;33m\u001b[0m\u001b[1;33m\u001b[0m\u001b[0m\n\u001b[0;32m    928\u001b[0m       result = self._run(None, fetches, feed_dict, options_ptr,\n\u001b[1;32m--> 929\u001b[1;33m                          run_metadata_ptr)\n\u001b[0m\u001b[0;32m    930\u001b[0m       \u001b[1;32mif\u001b[0m \u001b[0mrun_metadata\u001b[0m\u001b[1;33m:\u001b[0m\u001b[1;33m\u001b[0m\u001b[1;33m\u001b[0m\u001b[0m\n\u001b[0;32m    931\u001b[0m         \u001b[0mproto_data\u001b[0m \u001b[1;33m=\u001b[0m \u001b[0mtf_session\u001b[0m\u001b[1;33m.\u001b[0m\u001b[0mTF_GetBuffer\u001b[0m\u001b[1;33m(\u001b[0m\u001b[0mrun_metadata_ptr\u001b[0m\u001b[1;33m)\u001b[0m\u001b[1;33m\u001b[0m\u001b[1;33m\u001b[0m\u001b[0m\n",
      "\u001b[1;32m~\\Anaconda3\\lib\\site-packages\\tensorflow\\python\\client\\session.py\u001b[0m in \u001b[0;36m_run\u001b[1;34m(self, handle, fetches, feed_dict, options, run_metadata)\u001b[0m\n\u001b[0;32m   1150\u001b[0m     \u001b[1;32mif\u001b[0m \u001b[0mfinal_fetches\u001b[0m \u001b[1;32mor\u001b[0m \u001b[0mfinal_targets\u001b[0m \u001b[1;32mor\u001b[0m \u001b[1;33m(\u001b[0m\u001b[0mhandle\u001b[0m \u001b[1;32mand\u001b[0m \u001b[0mfeed_dict_tensor\u001b[0m\u001b[1;33m)\u001b[0m\u001b[1;33m:\u001b[0m\u001b[1;33m\u001b[0m\u001b[1;33m\u001b[0m\u001b[0m\n\u001b[0;32m   1151\u001b[0m       results = self._do_run(handle, final_targets, final_fetches,\n\u001b[1;32m-> 1152\u001b[1;33m                              feed_dict_tensor, options, run_metadata)\n\u001b[0m\u001b[0;32m   1153\u001b[0m     \u001b[1;32melse\u001b[0m\u001b[1;33m:\u001b[0m\u001b[1;33m\u001b[0m\u001b[1;33m\u001b[0m\u001b[0m\n\u001b[0;32m   1154\u001b[0m       \u001b[0mresults\u001b[0m \u001b[1;33m=\u001b[0m \u001b[1;33m[\u001b[0m\u001b[1;33m]\u001b[0m\u001b[1;33m\u001b[0m\u001b[1;33m\u001b[0m\u001b[0m\n",
      "\u001b[1;32m~\\Anaconda3\\lib\\site-packages\\tensorflow\\python\\client\\session.py\u001b[0m in \u001b[0;36m_do_run\u001b[1;34m(self, handle, target_list, fetch_list, feed_dict, options, run_metadata)\u001b[0m\n\u001b[0;32m   1326\u001b[0m     \u001b[1;32mif\u001b[0m \u001b[0mhandle\u001b[0m \u001b[1;32mis\u001b[0m \u001b[1;32mNone\u001b[0m\u001b[1;33m:\u001b[0m\u001b[1;33m\u001b[0m\u001b[1;33m\u001b[0m\u001b[0m\n\u001b[0;32m   1327\u001b[0m       return self._do_call(_run_fn, feeds, fetches, targets, options,\n\u001b[1;32m-> 1328\u001b[1;33m                            run_metadata)\n\u001b[0m\u001b[0;32m   1329\u001b[0m     \u001b[1;32melse\u001b[0m\u001b[1;33m:\u001b[0m\u001b[1;33m\u001b[0m\u001b[1;33m\u001b[0m\u001b[0m\n\u001b[0;32m   1330\u001b[0m       \u001b[1;32mreturn\u001b[0m \u001b[0mself\u001b[0m\u001b[1;33m.\u001b[0m\u001b[0m_do_call\u001b[0m\u001b[1;33m(\u001b[0m\u001b[0m_prun_fn\u001b[0m\u001b[1;33m,\u001b[0m \u001b[0mhandle\u001b[0m\u001b[1;33m,\u001b[0m \u001b[0mfeeds\u001b[0m\u001b[1;33m,\u001b[0m \u001b[0mfetches\u001b[0m\u001b[1;33m)\u001b[0m\u001b[1;33m\u001b[0m\u001b[1;33m\u001b[0m\u001b[0m\n",
      "\u001b[1;32m~\\Anaconda3\\lib\\site-packages\\tensorflow\\python\\client\\session.py\u001b[0m in \u001b[0;36m_do_call\u001b[1;34m(self, fn, *args)\u001b[0m\n\u001b[0;32m   1346\u001b[0m           \u001b[1;32mpass\u001b[0m\u001b[1;33m\u001b[0m\u001b[1;33m\u001b[0m\u001b[0m\n\u001b[0;32m   1347\u001b[0m       \u001b[0mmessage\u001b[0m \u001b[1;33m=\u001b[0m \u001b[0merror_interpolation\u001b[0m\u001b[1;33m.\u001b[0m\u001b[0minterpolate\u001b[0m\u001b[1;33m(\u001b[0m\u001b[0mmessage\u001b[0m\u001b[1;33m,\u001b[0m \u001b[0mself\u001b[0m\u001b[1;33m.\u001b[0m\u001b[0m_graph\u001b[0m\u001b[1;33m)\u001b[0m\u001b[1;33m\u001b[0m\u001b[1;33m\u001b[0m\u001b[0m\n\u001b[1;32m-> 1348\u001b[1;33m       \u001b[1;32mraise\u001b[0m \u001b[0mtype\u001b[0m\u001b[1;33m(\u001b[0m\u001b[0me\u001b[0m\u001b[1;33m)\u001b[0m\u001b[1;33m(\u001b[0m\u001b[0mnode_def\u001b[0m\u001b[1;33m,\u001b[0m \u001b[0mop\u001b[0m\u001b[1;33m,\u001b[0m \u001b[0mmessage\u001b[0m\u001b[1;33m)\u001b[0m\u001b[1;33m\u001b[0m\u001b[1;33m\u001b[0m\u001b[0m\n\u001b[0m\u001b[0;32m   1349\u001b[0m \u001b[1;33m\u001b[0m\u001b[0m\n\u001b[0;32m   1350\u001b[0m   \u001b[1;32mdef\u001b[0m \u001b[0m_extend_graph\u001b[0m\u001b[1;33m(\u001b[0m\u001b[0mself\u001b[0m\u001b[1;33m)\u001b[0m\u001b[1;33m:\u001b[0m\u001b[1;33m\u001b[0m\u001b[1;33m\u001b[0m\u001b[0m\n",
      "\u001b[1;31mResourceExhaustedError\u001b[0m: OOM when allocating tensor with shape[25137,32,64,64] and type float on /job:localhost/replica:0/task:0/device:GPU:0 by allocator GPU_0_bfc\n\t [[node Conv2D (defined at <ipython-input-1-eb9c71f8a2c1>:69) ]]\nHint: If you want to see a list of allocated tensors when OOM happens, add report_tensor_allocations_upon_oom to RunOptions for current allocation info.\n\n\t [[node Mean_1 (defined at <ipython-input-1-eb9c71f8a2c1>:137) ]]\nHint: If you want to see a list of allocated tensors when OOM happens, add report_tensor_allocations_upon_oom to RunOptions for current allocation info.\n\n\nCaused by op 'Conv2D', defined at:\n  File \"C:\\Users\\kvlks\\Anaconda3\\lib\\runpy.py\", line 193, in _run_module_as_main\n    \"__main__\", mod_spec)\n  File \"C:\\Users\\kvlks\\Anaconda3\\lib\\runpy.py\", line 85, in _run_code\n    exec(code, run_globals)\n  File \"C:\\Users\\kvlks\\Anaconda3\\lib\\site-packages\\ipykernel_launcher.py\", line 16, in <module>\n    app.launch_new_instance()\n  File \"C:\\Users\\kvlks\\Anaconda3\\lib\\site-packages\\traitlets\\config\\application.py\", line 658, in launch_instance\n    app.start()\n  File \"C:\\Users\\kvlks\\Anaconda3\\lib\\site-packages\\ipykernel\\kernelapp.py\", line 505, in start\n    self.io_loop.start()\n  File \"C:\\Users\\kvlks\\Anaconda3\\lib\\site-packages\\tornado\\platform\\asyncio.py\", line 148, in start\n    self.asyncio_loop.run_forever()\n  File \"C:\\Users\\kvlks\\Anaconda3\\lib\\asyncio\\base_events.py\", line 539, in run_forever\n    self._run_once()\n  File \"C:\\Users\\kvlks\\Anaconda3\\lib\\asyncio\\base_events.py\", line 1775, in _run_once\n    handle._run()\n  File \"C:\\Users\\kvlks\\Anaconda3\\lib\\asyncio\\events.py\", line 88, in _run\n    self._context.run(self._callback, *self._args)\n  File \"C:\\Users\\kvlks\\Anaconda3\\lib\\site-packages\\tornado\\ioloop.py\", line 690, in <lambda>\n    lambda f: self._run_callback(functools.partial(callback, future))\n  File \"C:\\Users\\kvlks\\Anaconda3\\lib\\site-packages\\tornado\\ioloop.py\", line 743, in _run_callback\n    ret = callback()\n  File \"C:\\Users\\kvlks\\Anaconda3\\lib\\site-packages\\tornado\\gen.py\", line 781, in inner\n    self.run()\n  File \"C:\\Users\\kvlks\\Anaconda3\\lib\\site-packages\\tornado\\gen.py\", line 742, in run\n    yielded = self.gen.send(value)\n  File \"C:\\Users\\kvlks\\Anaconda3\\lib\\site-packages\\ipykernel\\kernelbase.py\", line 357, in process_one\n    yield gen.maybe_future(dispatch(*args))\n  File \"C:\\Users\\kvlks\\Anaconda3\\lib\\site-packages\\tornado\\gen.py\", line 209, in wrapper\n    yielded = next(result)\n  File \"C:\\Users\\kvlks\\Anaconda3\\lib\\site-packages\\ipykernel\\kernelbase.py\", line 267, in dispatch_shell\n    yield gen.maybe_future(handler(stream, idents, msg))\n  File \"C:\\Users\\kvlks\\Anaconda3\\lib\\site-packages\\tornado\\gen.py\", line 209, in wrapper\n    yielded = next(result)\n  File \"C:\\Users\\kvlks\\Anaconda3\\lib\\site-packages\\ipykernel\\kernelbase.py\", line 534, in execute_request\n    user_expressions, allow_stdin,\n  File \"C:\\Users\\kvlks\\Anaconda3\\lib\\site-packages\\tornado\\gen.py\", line 209, in wrapper\n    yielded = next(result)\n  File \"C:\\Users\\kvlks\\Anaconda3\\lib\\site-packages\\ipykernel\\ipkernel.py\", line 294, in do_execute\n    res = shell.run_cell(code, store_history=store_history, silent=silent)\n  File \"C:\\Users\\kvlks\\Anaconda3\\lib\\site-packages\\ipykernel\\zmqshell.py\", line 536, in run_cell\n    return super(ZMQInteractiveShell, self).run_cell(*args, **kwargs)\n  File \"C:\\Users\\kvlks\\Anaconda3\\lib\\site-packages\\IPython\\core\\interactiveshell.py\", line 2848, in run_cell\n    raw_cell, store_history, silent, shell_futures)\n  File \"C:\\Users\\kvlks\\Anaconda3\\lib\\site-packages\\IPython\\core\\interactiveshell.py\", line 2874, in _run_cell\n    return runner(coro)\n  File \"C:\\Users\\kvlks\\Anaconda3\\lib\\site-packages\\IPython\\core\\async_helpers.py\", line 67, in _pseudo_sync_runner\n    coro.send(None)\n  File \"C:\\Users\\kvlks\\Anaconda3\\lib\\site-packages\\IPython\\core\\interactiveshell.py\", line 3049, in run_cell_async\n    interactivity=interactivity, compiler=compiler, result=result)\n  File \"C:\\Users\\kvlks\\Anaconda3\\lib\\site-packages\\IPython\\core\\interactiveshell.py\", line 3220, in run_ast_nodes\n    if (yield from self.run_code(code, result)):\n  File \"C:\\Users\\kvlks\\Anaconda3\\lib\\site-packages\\IPython\\core\\interactiveshell.py\", line 3296, in run_code\n    exec(code_obj, self.user_global_ns, self.user_ns)\n  File \"<ipython-input-3-368a0d11b88d>\", line 1, in <module>\n    m1._init_and_build_net()\n  File \"<ipython-input-1-eb9c71f8a2c1>\", line 19, in _init_and_build_net\n    self._build_net_2()\n  File \"<ipython-input-1-eb9c71f8a2c1>\", line 69, in _build_net_2\n    padding='SAME')\n  File \"C:\\Users\\kvlks\\Anaconda3\\lib\\site-packages\\tensorflow\\python\\ops\\gen_nn_ops.py\", line 1026, in conv2d\n    data_format=data_format, dilations=dilations, name=name)\n  File \"C:\\Users\\kvlks\\Anaconda3\\lib\\site-packages\\tensorflow\\python\\framework\\op_def_library.py\", line 788, in _apply_op_helper\n    op_def=op_def)\n  File \"C:\\Users\\kvlks\\Anaconda3\\lib\\site-packages\\tensorflow\\python\\util\\deprecation.py\", line 507, in new_func\n    return func(*args, **kwargs)\n  File \"C:\\Users\\kvlks\\Anaconda3\\lib\\site-packages\\tensorflow\\python\\framework\\ops.py\", line 3300, in create_op\n    op_def=op_def)\n  File \"C:\\Users\\kvlks\\Anaconda3\\lib\\site-packages\\tensorflow\\python\\framework\\ops.py\", line 1801, in __init__\n    self._traceback = tf_stack.extract_stack()\n\nResourceExhaustedError (see above for traceback): OOM when allocating tensor with shape[25137,32,64,64] and type float on /job:localhost/replica:0/task:0/device:GPU:0 by allocator GPU_0_bfc\n\t [[node Conv2D (defined at <ipython-input-1-eb9c71f8a2c1>:69) ]]\nHint: If you want to see a list of allocated tensors when OOM happens, add report_tensor_allocations_upon_oom to RunOptions for current allocation info.\n\n\t [[node Mean_1 (defined at <ipython-input-1-eb9c71f8a2c1>:137) ]]\nHint: If you want to see a list of allocated tensors when OOM happens, add report_tensor_allocations_upon_oom to RunOptions for current allocation info.\n\n"
     ]
    }
   ],
   "source": [
    "print('Accuracy:', m1.get_accuracy())"
   ]
  },
  {
   "cell_type": "code",
   "execution_count": 4,
   "metadata": {},
   "outputs": [],
   "source": [
    "ORDER_FILE_PATH = \"C:/DataSet/Hangeul/order.txt\"\n",
    "order_file = open(ORDER_FILE_PATH, 'r')\n",
    "hangeul_order_list = order_file.readlines()"
   ]
  },
  {
   "cell_type": "code",
   "execution_count": 5,
   "metadata": {},
   "outputs": [
    {
     "name": "stdout",
     "output_type": "stream",
     "text": [
      "513\n",
      "[(0, '가\\n'), (1, '각\\n'), (2, '간\\n'), (3, '갈\\n'), (4, '감\\n'), (5, '갑\\n'), (6, '강\\n'), (7, '갖\\n'), (8, '같\\n'), (9, '개\\n'), (10, '객\\n'), (11, '거\\n'), (12, '걱\\n'), (13, '건\\n'), (14, '걷\\n'), (15, '걸\\n'), (16, '검\\n'), (17, '겁\\n'), (18, '것\\n'), (19, '게\\n'), (20, '겨\\n'), (21, '격\\n'), (22, '견\\n'), (23, '결\\n'), (24, '경\\n'), (25, '계\\n'), (26, '고\\n'), (27, '곡\\n'), (28, '곤\\n'), (29, '곧\\n'), (30, '골\\n'), (31, '곳\\n'), (32, '공\\n'), (33, '과\\n'), (34, '관\\n'), (35, '광\\n'), (36, '괴\\n'), (37, '교\\n'), (38, '구\\n'), (39, '국\\n'), (40, '군\\n'), (41, '굳\\n'), (42, '궁\\n'), (43, '권\\n'), (44, '귀\\n'), (45, '규\\n'), (46, '그\\n'), (47, '극\\n'), (48, '근\\n'), (49, '글\\n'), (50, '금\\n'), (51, '급\\n'), (52, '기\\n'), (53, '긴\\n'), (54, '길\\n'), (55, '김\\n'), (56, '깊\\n'), (57, '까\\n'), (58, '깔\\n'), (59, '깨\\n'), (60, '꺼\\n'), (61, '껏\\n'), (62, '께\\n'), (63, '꼭\\n'), (64, '꽃\\n'), (65, '꾸\\n'), (66, '끄\\n'), (67, '끊\\n'), (68, '끌\\n'), (69, '끗\\n'), (70, '끝\\n'), (71, '끼\\n'), (72, '나\\n'), (73, '난\\n'), (74, '날\\n'), (75, '남\\n'), (76, '낮\\n'), (77, '내\\n'), (78, '냉\\n'), (79, '너\\n'), (80, '널\\n'), (81, '넓\\n'), (82, '넘\\n'), (83, '네\\n'), (84, '넷\\n'), (85, '녀\\n'), (86, '녁\\n'), (87, '년\\n'), (88, '념\\n'), (89, '녕\\n'), (90, '노\\n'), (91, '녹\\n'), (92, '논\\n'), (93, '놀\\n'), (94, '농\\n'), (95, '높\\n'), (96, '놓\\n'), (97, '누\\n'), (98, '눈\\n'), (99, '뉴\\n'), (100, '느\\n'), (101, '늘\\n'), (102, '능\\n'), (103, '늦\\n'), (104, '니\\n'), (105, '님\\n'), (106, '다\\n'), (107, '닥\\n'), (108, '단\\n'), (109, '달\\n'), (110, '닭\\n'), (111, '담\\n'), (112, '답\\n'), (113, '닷\\n'), (114, '당\\n'), (115, '대\\n'), (116, '더\\n'), (117, '덕\\n'), (118, '데\\n'), (119, '도\\n'), (120, '독\\n'), (121, '돌\\n'), (122, '동\\n'), (123, '되\\n'), (124, '두\\n'), (125, '드\\n'), (126, '득\\n'), (127, '들\\n'), (128, '듯\\n'), (129, '등\\n'), (130, '디\\n'), (131, '따\\n'), (132, '딸\\n'), (133, '때\\n'), (134, '뜨\\n'), (135, '라\\n'), (136, '락\\n'), (137, '란\\n'), (138, '람\\n'), (139, '랑\\n'), (140, '랗\\n'), (141, '래\\n'), (142, '램\\n'), (143, '량\\n'), (144, '러\\n'), (145, '런\\n'), (146, '럽\\n'), (147, '렇\\n'), (148, '레\\n'), (149, '려\\n'), (150, '력\\n'), (151, '련\\n'), (152, '령\\n'), (153, '례\\n'), (154, '로\\n'), (155, '록\\n'), (156, '론\\n'), (157, '롭\\n'), (158, '료\\n'), (159, '루\\n'), (160, '류\\n'), (161, '르\\n'), (162, '른\\n'), (163, '름\\n'), (164, '릇\\n'), (165, '리\\n'), (166, '린\\n'), (167, '림\\n'), (168, '립\\n'), (169, '마\\n'), (170, '막\\n'), (171, '만\\n'), (172, '많\\n'), (173, '말\\n'), (174, '맛\\n'), (175, '망\\n'), (176, '맞\\n'), (177, '맡\\n'), (178, '매\\n'), (179, '머\\n'), (180, '먹\\n'), (181, '멀\\n'), (182, '멋\\n'), (183, '멍\\n'), (184, '메\\n'), (185, '면\\n'), (186, '명\\n'), (187, '몇\\n'), (188, '모\\n'), (189, '목\\n'), (190, '몰\\n'), (191, '몸\\n'), (192, '못\\n'), (193, '무\\n'), (194, '문\\n'), (195, '묻\\n'), (196, '물\\n'), (197, '미\\n'), (198, '민\\n'), (199, '밀\\n'), (200, '바\\n'), (201, '박\\n'), (202, '반\\n'), (203, '받\\n'), (204, '발\\n'), (205, '밝\\n'), (206, '밤\\n'), (207, '밥\\n'), (208, '방\\n'), (209, '배\\n'), (210, '백\\n'), (211, '버\\n'), (212, '번\\n'), (213, '벌\\n'), (214, '범\\n'), (215, '법\\n'), (216, '베\\n'), (217, '벽\\n'), (218, '변\\n'), (219, '별\\n'), (220, '병\\n'), (221, '보\\n'), (222, '복\\n'), (223, '본\\n'), (224, '볼\\n'), (225, '봉\\n'), (226, '부\\n'), (227, '북\\n'), (228, '분\\n'), (229, '불\\n'), (230, '붙\\n'), (231, '비\\n'), (232, '빌\\n'), (233, '빗\\n'), (234, '빛\\n'), (235, '빠\\n'), (236, '빨\\n'), (237, '빼\\n'), (238, '쁘\\n'), (239, '사\\n'), (240, '산\\n'), (241, '살\\n'), (242, '삼\\n'), (243, '상\\n'), (244, '새\\n'), (245, '색\\n'), (246, '생\\n'), (247, '서\\n'), (248, '석\\n'), (249, '선\\n'), (250, '설\\n'), (251, '섭\\n'), (252, '섯\\n'), (253, '성\\n'), (254, '세\\n'), (255, '센\\n'), (256, '소\\n'), (257, '속\\n'), (258, '손\\n'), (259, '송\\n'), (260, '쇠\\n'), (261, '수\\n'), (262, '숙\\n'), (263, '순\\n'), (264, '술\\n'), (265, '숨\\n'), (266, '쉬\\n'), (267, '쉽\\n'), (268, '스\\n'), (269, '슬\\n'), (270, '습\\n'), (271, '승\\n'), (272, '시\\n'), (273, '식\\n'), (274, '신\\n'), (275, '실\\n'), (276, '싫\\n'), (277, '심\\n'), (278, '십\\n'), (279, '싱\\n'), (280, '싸\\n'), (281, '쌍\\n'), (282, '쓰\\n'), (283, '쓸\\n'), (284, '씨\\n'), (285, '씩\\n'), (286, '아\\n'), (287, '악\\n'), (288, '안\\n'), (289, '앉\\n'), (290, '알\\n'), (291, '암\\n'), (292, '앞\\n'), (293, '애\\n'), (294, '액\\n'), (295, '야\\n'), (296, '약\\n'), (297, '양\\n'), (298, '얘\\n'), (299, '어\\n'), (300, '억\\n'), (301, '언\\n'), (302, '얼\\n'), (303, '엄\\n'), (304, '업\\n'), (305, '없\\n'), (306, '엉\\n'), (307, '에\\n'), (308, '여\\n'), (309, '역\\n'), (310, '연\\n'), (311, '열\\n'), (312, '염\\n'), (313, '영\\n'), (314, '옆\\n'), (315, '예\\n'), (316, '오\\n'), (317, '옥\\n'), (318, '온\\n'), (319, '올\\n'), (320, '옷\\n'), (321, '와\\n'), (322, '완\\n'), (323, '왕\\n'), (324, '외\\n'), (325, '왼\\n'), (326, '요\\n'), (327, '욕\\n'), (328, '용\\n'), (329, '우\\n'), (330, '운\\n'), (331, '울\\n'), (332, '움\\n'), (333, '웃\\n'), (334, '워\\n'), (335, '원\\n'), (336, '월\\n'), (337, '웨\\n'), (338, '위\\n'), (339, '유\\n'), (340, '육\\n'), (341, '율\\n'), (342, '으\\n'), (343, '은\\n'), (344, '을\\n'), (345, '음\\n'), (346, '응\\n'), (347, '의\\n'), (348, '이\\n'), (349, '익\\n'), (350, '인\\n'), (351, '일\\n'), (352, '임\\n'), (353, '입\\n'), (354, '있\\n'), (355, '잊\\n'), (356, '잎\\n'), (357, '자\\n'), (358, '작\\n'), (359, '잔\\n'), (360, '잘\\n'), (361, '잠\\n'), (362, '잡\\n'), (363, '장\\n'), (364, '재\\n'), (365, '쟁\\n'), (366, '저\\n'), (367, '적\\n'), (368, '전\\n'), (369, '절\\n'), (370, '점\\n'), (371, '접\\n'), (372, '정\\n'), (373, '제\\n'), (374, '져\\n'), (375, '조\\n'), (376, '족\\n'), (377, '존\\n'), (378, '졸\\n'), (379, '종\\n'), (380, '좋\\n'), (381, '좌\\n'), (382, '죄\\n'), (383, '주\\n'), (384, '죽\\n'), (385, '준\\n'), (386, '줄\\n'), (387, '중\\n'), (388, '즈\\n'), (389, '즐\\n'), (390, '증\\n'), (391, '지\\n'), (392, '직\\n'), (393, '진\\n'), (394, '질\\n'), (395, '짐\\n'), (396, '집\\n'), (397, '짓\\n'), (398, '징\\n'), (399, '짜\\n'), (400, '짝\\n'), (401, '째\\n'), (402, '쩌\\n'), (403, '쪽\\n'), (404, '찌\\n'), (405, '찍\\n'), (406, '차\\n'), (407, '착\\n'), (408, '찬\\n'), (409, '찰\\n'), (410, '참\\n'), (411, '창\\n'), (412, '찾\\n'), (413, '채\\n'), (414, '책\\n'), (415, '처\\n'), (416, '척\\n'), (417, '천\\n'), (418, '철\\n'), (419, '첫\\n'), (420, '청\\n'), (421, '체\\n'), (422, '초\\n'), (423, '촌\\n'), (424, '총\\n'), (425, '최\\n'), (426, '추\\n'), (427, '축\\n'), (428, '출\\n'), (429, '충\\n'), (430, '취\\n'), (431, '층\\n'), (432, '치\\n'), (433, '친\\n'), (434, '칠\\n'), (435, '침\\n'), (436, '카\\n'), (437, '커\\n'), (438, '컵\\n'), (439, '코\\n'), (440, '크\\n'), (441, '큰\\n'), (442, '키\\n'), (443, '킬\\n'), (444, '타\\n'), (445, '탁\\n'), (446, '탕\\n'), (447, '태\\n'), (448, '택\\n'), (449, '터\\n'), (450, '테\\n'), (451, '토\\n'), (452, '통\\n'), (453, '퇴\\n'), (454, '투\\n'), (455, '튀\\n'), (456, '트\\n'), (457, '특\\n'), (458, '튼\\n'), (459, '틀\\n'), (460, '티\\n'), (461, '파\\n'), (462, '판\\n'), (463, '팔\\n'), (464, '패\\n'), (465, '팩\\n'), (466, '팬\\n'), (467, '퍼\\n'), (468, '페\\n'), (469, '편\\n'), (470, '평\\n'), (471, '포\\n'), (472, '폭\\n'), (473, '표\\n'), (474, '풀\\n'), (475, '품\\n'), (476, '풍\\n'), (477, '프\\n'), (478, '피\\n'), (479, '필\\n'), (480, '하\\n'), (481, '학\\n'), (482, '한\\n'), (483, '할\\n'), (484, '함\\n'), (485, '합\\n'), (486, '항\\n'), (487, '해\\n'), (488, '행\\n'), (489, '향\\n'), (490, '허\\n'), (491, '험\\n'), (492, '혀\\n'), (493, '현\\n'), (494, '형\\n'), (495, '호\\n'), (496, '혼\\n'), (497, '홍\\n'), (498, '화\\n'), (499, '확\\n'), (500, '환\\n'), (501, '활\\n'), (502, '회\\n'), (503, '효\\n'), (504, '후\\n'), (505, '휴\\n'), (506, '흐\\n'), (507, '흔\\n'), (508, '흘\\n'), (509, '흥\\n'), (510, '희\\n'), (511, '히\\n'), (512, '힘\\n')]\n"
     ]
    }
   ],
   "source": [
    "print(len(hangeul_order_list))\n",
    "print(list(enumerate(hangeul_order_list)))"
   ]
  },
  {
   "cell_type": "code",
   "execution_count": 20,
   "metadata": {},
   "outputs": [],
   "source": [
    "import shutil\n",
    "import cv2\n",
    "import matplotlib.pyplot as plt\n",
    "\n",
    "def img_to_vector():\n",
    "    my_img_path = 'C:/DataSet/input.png'\n",
    "    temp_img_path = 'C:/DataSet/temp.png'\n",
    "\n",
    "    shutil.copy(my_img_path, temp_img_path)\n",
    "\n",
    "    temp_img = cv2.imread(temp_img_path, cv2.IMREAD_GRAYSCALE)\n",
    "\n",
    "    plt.imshow(temp_img, cmap=\"Greys\", interpolation='nearest')\n",
    "    plt.show()\n",
    "    \n",
    "    temp_img = cv2.resize(temp_img, (64,64))\n",
    "    temp_img = cv2.bitwise_not(temp_img)\n",
    "    plt.imshow(temp_img, cmap=\"Greys\", interpolation='nearest')\n",
    "    plt.show()\n",
    "\n",
    "    cv2.imwrite(temp_img_path, temp_img)\n",
    "    return temp_img.reshape(-1,4096)"
   ]
  },
  {
   "cell_type": "code",
   "execution_count": 23,
   "metadata": {
    "scrolled": true
   },
   "outputs": [
    {
     "data": {
      "image/png": "[encoded data removed]",
      "text/plain": [
       "<Figure size 432x288 with 1 Axes>"
      ]
     },
     "metadata": {
      "needs_background": "light"
     },
     "output_type": "display_data"
    },
    {
     "data": {
      "image/png": "[encoded data removed]",
      "text/plain": [
       "<Figure size 432x288 with 1 Axes>"
      ]
     },
     "metadata": {
      "needs_background": "light"
     },
     "output_type": "display_data"
    },
    {
     "name": "stdout",
     "output_type": "stream",
     "text": [
      "[1]: [원]: -42.334938\n",
      "[2]: [씨]: -46.692932\n",
      "[3]: [빌]: -49.290947\n",
      "[4]: [찌]: -49.82004\n",
      "[5]: [권]: -50.86486\n"
     ]
    },
    {
     "data": {
      "image/png": "[encoded data removed]",
      "text/plain": [
       "<Figure size 432x288 with 1 Axes>"
      ]
     },
     "metadata": {
      "needs_background": "light"
     },
     "output_type": "display_data"
    },
    {
     "data": {
      "image/png": "[encoded data removed]",
      "text/plain": [
       "<Figure size 432x288 with 1 Axes>"
      ]
     },
     "metadata": {
      "needs_background": "light"
     },
     "output_type": "display_data"
    },
    {
     "name": "stdout",
     "output_type": "stream",
     "text": [
      "Prediction: 335\n"
     ]
    },
    {
     "data": {
      "image/png": "[encoded data removed]",
      "text/plain": [
       "<Figure size 432x288 with 1 Axes>"
      ]
     },
     "metadata": {
      "needs_background": "light"
     },
     "output_type": "display_data"
    },
    {
     "data": {
      "image/png": "[encoded data removed]",
      "text/plain": [
       "<Figure size 432x288 with 1 Axes>"
      ]
     },
     "metadata": {
      "needs_background": "light"
     },
     "output_type": "display_data"
    },
    {
     "name": "stdout",
     "output_type": "stream",
     "text": [
      "Prediction: 원\n",
      "\n"
     ]
    }
   ],
   "source": [
    "result = list(m1.predict(img_to_vector())[0])\n",
    "for i in range(5):\n",
    "    index = result.index(max(result))\n",
    "    print(\"[%s]: \"%str(i+1) + \"[%s]: \"%hangeul_order_list[index].strip() + str(result[index]))\n",
    "    result[index] = -999\n",
    "print(\"Prediction:\", m1.result_to_str(img_to_vector()))\n",
    "print(\"Prediction:\", hangeul_order_list[int(m1.result_to_str(img_to_vector()))])"
   ]
  },
  {
   "cell_type": "code",
   "execution_count": 11,
   "metadata": {},
   "outputs": [
    {
     "data": {
      "text/plain": [
       "<tf.Tensor 'Placeholder_2:0' shape=<unknown> dtype=float32>"
      ]
     },
     "execution_count": 11,
     "metadata": {},
     "output_type": "execute_result"
    }
   ],
   "source": [
    "m1.keep_prob"
   ]
  },
  {
   "cell_type": "code",
   "execution_count": null,
   "metadata": {},
   "outputs": [],
   "source": [
    "        self.X =  self.sess.graph.get_tensor_by_name(\"Placeholder:0\")\n",
    "        self.Y =  self.sess.graph.get_tensor_by_name(\"Placeholder_1:0\")\n",
    "        self.W_conv1 = self.sess.graph.get_tensor_by_name(\"W1:0\")\n",
    "        self.W_conv2 = self.sess.graph.get_tensor_by_name(\"W2:0\")\n",
    "        self.W_conv3 = self.sess.graph.get_tensor_by_name(\"W3:0\")\n",
    "        self.b_conv1 = self.sess.graph.get_tensor_by_name(\"Variable:0\")\n",
    "        self.b_conv2 = self.sess.graph.get_tensor_by_name(\"Variable_1:0\")\n",
    "        self.b_conv3 = self.sess.graph.get_tensor_by_name(\"Variable_2:0\")\n",
    "        self.cross_entropy = self.sess.graph.get_tensor_by_name(\"Mean:0\")\n",
    "        self.train_step = self.sess.graph.get_operation_by_name(\"Adam\")\n",
    "        self.accuracy = self.sess.graph.get_tensor_by_name(\"Mean_1:0\")\n",
    "        self.W_fc1 = self.sess.graph.get_tensor_by_name(\"W4:0\")\n",
    "        self.b_fc1 = self.sess.graph.get_tensor_by_name(\"Variable_3:0\")\n",
    "        self.W_fc2 = self.sess.graph.get_tensor_by_name(\"W5:0\")\n",
    "        self.b_fc2 = self.sess.graph.get_tensor_by_name(\"Variable_4:0\")\n",
    "        self.y_logits = self.sess.graph.get_tensor_by_name(\"add_4:0\")"
   ]
  }
 ],
 "metadata": {
  "kernelspec": {
   "display_name": "Python 3",
   "language": "python",
   "name": "python3"
  },
  "language_info": {
   "codemirror_mode": {
    "name": "ipython",
    "version": 3
   },
   "file_extension": ".py",
   "mimetype": "text/x-python",
   "name": "python",
   "nbconvert_exporter": "python",
   "pygments_lexer": "ipython3",
   "version": "3.6.8"
  }
 },
 "nbformat": 4,
 "nbformat_minor": 2
}
