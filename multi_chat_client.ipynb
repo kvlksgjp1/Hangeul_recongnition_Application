{
 "cells": [
  {
   "cell_type": "code",
   "execution_count": null,
   "metadata": {},
   "outputs": [
    {
     "name": "stdout",
     "output_type": "stream",
     "text": [
      "로그인ID:\n",
      "abc\n",
      "[abc]님이 입장했습니다.\n",
      "aa\n",
      "[abc] aa\n",
      "eee\n",
      "[abc] eee\n",
      "ffffqqq\n",
      "[abc] ffffqqq\n",
      "zzdcccxcdcdfrfrkgrgrkggrkgrfkg\n",
      "[abc] zzdcccxcdcdfrfrkgrgrkggrkgrfkg\n",
      "/\n",
      "jj\n",
      "[abc] jj\n",
      "jj\n",
      "[abc] jj\n",
      "/\n",
      "/\n",
      "/\n",
      "asdsafsaf\n",
      "[abc] asdsafsaf\n",
      "erer\n",
      "[abc] erer\n",
      "qwert\n",
      "[abc] qwert\n",
      "dd\n",
      "[abc] dd\n",
      "qwerty\n",
      "[abc] qwerty\n"
     ]
    }
   ],
   "source": [
    "import socket\n",
    "from threading import Thread\n",
    " \n",
    "HOST = 'localhost'\n",
    "PORT = 9009\n",
    " \n",
    "def rcvMsg(sock):\n",
    "   while True:\n",
    "      try:\n",
    "         data = sock.recv(1024)\n",
    "         if not data:\n",
    "            break\n",
    "         print(data.decode())\n",
    "      except:\n",
    "         pass\n",
    " \n",
    "def runChat():\n",
    "   with socket.socket(socket.AF_INET, socket.SOCK_STREAM) as sock:\n",
    "      sock.connect((HOST, PORT))\n",
    "      t = Thread(target=rcvMsg, args=(sock,))\n",
    "      t.daemon = True\n",
    "      t.start()\n",
    " \n",
    "      while True:\n",
    "         msg = input()\n",
    "         if msg == '/quit':\n",
    "            sock.send(msg.encode())\n",
    "            break\n",
    " \n",
    "         sock.send(msg.encode())\n",
    "             \n",
    "runChat()\n",
    "\n"
   ]
  },
  {
   "cell_type": "code",
   "execution_count": null,
   "metadata": {},
   "outputs": [],
   "source": []
  }
 ],
 "metadata": {
  "kernelspec": {
   "display_name": "Python 3",
   "language": "python",
   "name": "python3"
  },
  "language_info": {
   "codemirror_mode": {
    "name": "ipython",
    "version": 3
   },
   "file_extension": ".py",
   "mimetype": "text/x-python",
   "name": "python",
   "nbconvert_exporter": "python",
   "pygments_lexer": "ipython3",
   "version": "3.6.8"
  }
 },
 "nbformat": 4,
 "nbformat_minor": 2
}
